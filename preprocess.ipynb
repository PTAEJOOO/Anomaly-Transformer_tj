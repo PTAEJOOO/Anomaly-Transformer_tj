{
 "cells": [
  {
   "cell_type": "code",
   "execution_count": 1,
   "id": "4d28925e",
   "metadata": {},
   "outputs": [],
   "source": [
    "import pandas as pd\n",
    "import numpy as np"
   ]
  },
  {
   "cell_type": "code",
   "execution_count": 5,
   "id": "56d5c08f",
   "metadata": {},
   "outputs": [],
   "source": [
    "btc = pd.read_csv('./dataset/Crypto/bitcoin_transactions.csv')\n",
    "eth = pd.read_csv('./dataset/Crypto/ethereum_transactions.csv')"
   ]
  },
  {
   "cell_type": "code",
   "execution_count": 6,
   "id": "4313a263",
   "metadata": {},
   "outputs": [
    {
     "data": {
      "text/html": [
       "<div>\n",
       "<style scoped>\n",
       "    .dataframe tbody tr th:only-of-type {\n",
       "        vertical-align: middle;\n",
       "    }\n",
       "\n",
       "    .dataframe tbody tr th {\n",
       "        vertical-align: top;\n",
       "    }\n",
       "\n",
       "    .dataframe thead th {\n",
       "        text-align: right;\n",
       "    }\n",
       "</style>\n",
       "<table border=\"1\" class=\"dataframe\">\n",
       "  <thead>\n",
       "    <tr style=\"text-align: right;\">\n",
       "      <th></th>\n",
       "      <th>date</th>\n",
       "      <th>transactions_bitcoin</th>\n",
       "      <th>log</th>\n",
       "      <th>log_diff</th>\n",
       "    </tr>\n",
       "  </thead>\n",
       "  <tbody>\n",
       "    <tr>\n",
       "      <th>1</th>\n",
       "      <td>2015-08-08</td>\n",
       "      <td>101512</td>\n",
       "      <td>11.527932</td>\n",
       "      <td>-0.092456</td>\n",
       "    </tr>\n",
       "    <tr>\n",
       "      <th>2</th>\n",
       "      <td>2015-08-09</td>\n",
       "      <td>90534</td>\n",
       "      <td>11.413481</td>\n",
       "      <td>-0.114452</td>\n",
       "    </tr>\n",
       "    <tr>\n",
       "      <th>3</th>\n",
       "      <td>2015-08-10</td>\n",
       "      <td>116841</td>\n",
       "      <td>11.668569</td>\n",
       "      <td>0.255089</td>\n",
       "    </tr>\n",
       "    <tr>\n",
       "      <th>4</th>\n",
       "      <td>2015-08-11</td>\n",
       "      <td>114741</td>\n",
       "      <td>11.650433</td>\n",
       "      <td>-0.018137</td>\n",
       "    </tr>\n",
       "    <tr>\n",
       "      <th>5</th>\n",
       "      <td>2015-08-12</td>\n",
       "      <td>117898</td>\n",
       "      <td>11.677575</td>\n",
       "      <td>0.027142</td>\n",
       "    </tr>\n",
       "  </tbody>\n",
       "</table>\n",
       "</div>"
      ],
      "text/plain": [
       "         date  transactions_bitcoin        log  log_diff\n",
       "1  2015-08-08                101512  11.527932 -0.092456\n",
       "2  2015-08-09                 90534  11.413481 -0.114452\n",
       "3  2015-08-10                116841  11.668569  0.255089\n",
       "4  2015-08-11                114741  11.650433 -0.018137\n",
       "5  2015-08-12                117898  11.677575  0.027142"
      ]
     },
     "execution_count": 6,
     "metadata": {},
     "output_type": "execute_result"
    }
   ],
   "source": [
    "btc['log'] = np.log(btc['transactions_bitcoin'])\n",
    "btc['log_diff'] = btc['log'].diff()\n",
    "btc = btc.dropna()\n",
    "btc.head()"
   ]
  },
  {
   "cell_type": "code",
   "execution_count": 8,
   "id": "511e6769",
   "metadata": {},
   "outputs": [
    {
     "data": {
      "text/html": [
       "<div>\n",
       "<style scoped>\n",
       "    .dataframe tbody tr th:only-of-type {\n",
       "        vertical-align: middle;\n",
       "    }\n",
       "\n",
       "    .dataframe tbody tr th {\n",
       "        vertical-align: top;\n",
       "    }\n",
       "\n",
       "    .dataframe thead th {\n",
       "        text-align: right;\n",
       "    }\n",
       "</style>\n",
       "<table border=\"1\" class=\"dataframe\">\n",
       "  <thead>\n",
       "    <tr style=\"text-align: right;\">\n",
       "      <th></th>\n",
       "      <th>date</th>\n",
       "      <th>transactions_ethereum</th>\n",
       "      <th>log</th>\n",
       "      <th>log_diff</th>\n",
       "    </tr>\n",
       "  </thead>\n",
       "  <tbody>\n",
       "    <tr>\n",
       "      <th>1</th>\n",
       "      <td>2015-08-08</td>\n",
       "      <td>2881</td>\n",
       "      <td>7.965893</td>\n",
       "      <td>0.340298</td>\n",
       "    </tr>\n",
       "    <tr>\n",
       "      <th>2</th>\n",
       "      <td>2015-08-09</td>\n",
       "      <td>1329</td>\n",
       "      <td>7.192182</td>\n",
       "      <td>-0.773711</td>\n",
       "    </tr>\n",
       "    <tr>\n",
       "      <th>3</th>\n",
       "      <td>2015-08-10</td>\n",
       "      <td>2037</td>\n",
       "      <td>7.619233</td>\n",
       "      <td>0.427051</td>\n",
       "    </tr>\n",
       "    <tr>\n",
       "      <th>4</th>\n",
       "      <td>2015-08-11</td>\n",
       "      <td>4963</td>\n",
       "      <td>8.509766</td>\n",
       "      <td>0.890532</td>\n",
       "    </tr>\n",
       "    <tr>\n",
       "      <th>5</th>\n",
       "      <td>2015-08-12</td>\n",
       "      <td>2036</td>\n",
       "      <td>7.618742</td>\n",
       "      <td>-0.891023</td>\n",
       "    </tr>\n",
       "  </tbody>\n",
       "</table>\n",
       "</div>"
      ],
      "text/plain": [
       "         date  transactions_ethereum       log  log_diff\n",
       "1  2015-08-08                   2881  7.965893  0.340298\n",
       "2  2015-08-09                   1329  7.192182 -0.773711\n",
       "3  2015-08-10                   2037  7.619233  0.427051\n",
       "4  2015-08-11                   4963  8.509766  0.890532\n",
       "5  2015-08-12                   2036  7.618742 -0.891023"
      ]
     },
     "execution_count": 8,
     "metadata": {},
     "output_type": "execute_result"
    }
   ],
   "source": [
    "eth['log'] = np.log(eth['transactions_ethereum'])\n",
    "eth['log_diff'] = eth['log'].diff()\n",
    "eth = eth.dropna()\n",
    "eth.head()"
   ]
  },
  {
   "cell_type": "code",
   "execution_count": 10,
   "id": "6b53a3cd",
   "metadata": {},
   "outputs": [
    {
     "data": {
      "text/html": [
       "<div>\n",
       "<style scoped>\n",
       "    .dataframe tbody tr th:only-of-type {\n",
       "        vertical-align: middle;\n",
       "    }\n",
       "\n",
       "    .dataframe tbody tr th {\n",
       "        vertical-align: top;\n",
       "    }\n",
       "\n",
       "    .dataframe thead th {\n",
       "        text-align: right;\n",
       "    }\n",
       "</style>\n",
       "<table border=\"1\" class=\"dataframe\">\n",
       "  <thead>\n",
       "    <tr style=\"text-align: right;\">\n",
       "      <th></th>\n",
       "      <th>date</th>\n",
       "      <th>log_diff</th>\n",
       "    </tr>\n",
       "  </thead>\n",
       "  <tbody>\n",
       "    <tr>\n",
       "      <th>1</th>\n",
       "      <td>2015-08-08</td>\n",
       "      <td>-0.092456</td>\n",
       "    </tr>\n",
       "    <tr>\n",
       "      <th>2</th>\n",
       "      <td>2015-08-09</td>\n",
       "      <td>-0.114452</td>\n",
       "    </tr>\n",
       "    <tr>\n",
       "      <th>3</th>\n",
       "      <td>2015-08-10</td>\n",
       "      <td>0.255089</td>\n",
       "    </tr>\n",
       "    <tr>\n",
       "      <th>4</th>\n",
       "      <td>2015-08-11</td>\n",
       "      <td>-0.018137</td>\n",
       "    </tr>\n",
       "    <tr>\n",
       "      <th>5</th>\n",
       "      <td>2015-08-12</td>\n",
       "      <td>0.027142</td>\n",
       "    </tr>\n",
       "  </tbody>\n",
       "</table>\n",
       "</div>"
      ],
      "text/plain": [
       "         date  log_diff\n",
       "1  2015-08-08 -0.092456\n",
       "2  2015-08-09 -0.114452\n",
       "3  2015-08-10  0.255089\n",
       "4  2015-08-11 -0.018137\n",
       "5  2015-08-12  0.027142"
      ]
     },
     "execution_count": 10,
     "metadata": {},
     "output_type": "execute_result"
    }
   ],
   "source": [
    "btc = btc[['date', 'log_diff']]\n",
    "btc.head()"
   ]
  },
  {
   "cell_type": "code",
   "execution_count": 11,
   "id": "982db941",
   "metadata": {},
   "outputs": [
    {
     "data": {
      "text/html": [
       "<div>\n",
       "<style scoped>\n",
       "    .dataframe tbody tr th:only-of-type {\n",
       "        vertical-align: middle;\n",
       "    }\n",
       "\n",
       "    .dataframe tbody tr th {\n",
       "        vertical-align: top;\n",
       "    }\n",
       "\n",
       "    .dataframe thead th {\n",
       "        text-align: right;\n",
       "    }\n",
       "</style>\n",
       "<table border=\"1\" class=\"dataframe\">\n",
       "  <thead>\n",
       "    <tr style=\"text-align: right;\">\n",
       "      <th></th>\n",
       "      <th>date</th>\n",
       "      <th>log_diff</th>\n",
       "    </tr>\n",
       "  </thead>\n",
       "  <tbody>\n",
       "    <tr>\n",
       "      <th>1</th>\n",
       "      <td>2015-08-08</td>\n",
       "      <td>0.340298</td>\n",
       "    </tr>\n",
       "    <tr>\n",
       "      <th>2</th>\n",
       "      <td>2015-08-09</td>\n",
       "      <td>-0.773711</td>\n",
       "    </tr>\n",
       "    <tr>\n",
       "      <th>3</th>\n",
       "      <td>2015-08-10</td>\n",
       "      <td>0.427051</td>\n",
       "    </tr>\n",
       "    <tr>\n",
       "      <th>4</th>\n",
       "      <td>2015-08-11</td>\n",
       "      <td>0.890532</td>\n",
       "    </tr>\n",
       "    <tr>\n",
       "      <th>5</th>\n",
       "      <td>2015-08-12</td>\n",
       "      <td>-0.891023</td>\n",
       "    </tr>\n",
       "  </tbody>\n",
       "</table>\n",
       "</div>"
      ],
      "text/plain": [
       "         date  log_diff\n",
       "1  2015-08-08  0.340298\n",
       "2  2015-08-09 -0.773711\n",
       "3  2015-08-10  0.427051\n",
       "4  2015-08-11  0.890532\n",
       "5  2015-08-12 -0.891023"
      ]
     },
     "execution_count": 11,
     "metadata": {},
     "output_type": "execute_result"
    }
   ],
   "source": [
    "eth = eth[['date', 'log_diff']]\n",
    "eth.head()"
   ]
  },
  {
   "cell_type": "code",
   "execution_count": 12,
   "id": "8fbe67ce",
   "metadata": {},
   "outputs": [],
   "source": [
    "btc.to_csv('./dataset/Crypto/bitcoin_log_diff.csv', index=False)\n",
    "eth.to_csv('./dataset/Crypto/ethereum_log_diff.csv', index=False)"
   ]
  }
 ],
 "metadata": {
  "kernelspec": {
   "display_name": "mamba",
   "language": "python",
   "name": "python3"
  },
  "language_info": {
   "codemirror_mode": {
    "name": "ipython",
    "version": 3
   },
   "file_extension": ".py",
   "mimetype": "text/x-python",
   "name": "python",
   "nbconvert_exporter": "python",
   "pygments_lexer": "ipython3",
   "version": "3.10.16"
  }
 },
 "nbformat": 4,
 "nbformat_minor": 5
}
